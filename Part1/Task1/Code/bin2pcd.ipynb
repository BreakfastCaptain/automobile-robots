{
 "cells": [
  {
   "cell_type": "code",
   "execution_count": null,
   "id": "a5c6c71e",
   "metadata": {},
   "outputs": [],
   "source": [
    "# %load  bin2pcd.py\n",
    "import numpy as np\n",
    "import open3d as o3d\n",
    "\n",
    "# Load binary point cloud that needed\n",
    "for i in range(1, 11):\n",
    "    filename = \"frame%i.pcd.bin\" % i\n",
    "    bin_pcd = np.fromfile(filename, dtype=np.float32)\n",
    "\n",
    "    # Reshape and drop reflection values\n",
    "    points = bin_pcd.reshape((-1, 5))[:, :3]\n",
    "\n",
    "    # Convert to Open3D point cloud\n",
    "    o3d_pcd = o3d.geometry.PointCloud(o3d.utility.Vector3dVector(points))\n",
    "\n",
    "    outputfilename = \"pointcloud%i.pcd\" % i\n",
    "    o3d.io.write_point_cloud(outputfilename, o3d_pcd)\n"
   ]
  },
  {
   "cell_type": "code",
   "execution_count": null,
   "id": "43b9af02",
   "metadata": {},
   "outputs": [],
   "source": []
  }
 ],
 "metadata": {
  "kernelspec": {
   "display_name": "Python 3 (ipykernel)",
   "language": "python",
   "name": "python3"
  },
  "language_info": {
   "codemirror_mode": {
    "name": "ipython",
    "version": 3
   },
   "file_extension": ".py",
   "mimetype": "text/x-python",
   "name": "python",
   "nbconvert_exporter": "python",
   "pygments_lexer": "ipython3",
   "version": "3.7.9"
  },
  "toc": {
   "base_numbering": 1,
   "nav_menu": {},
   "number_sections": true,
   "sideBar": true,
   "skip_h1_title": false,
   "title_cell": "Table of Contents",
   "title_sidebar": "Contents",
   "toc_cell": false,
   "toc_position": {},
   "toc_section_display": true,
   "toc_window_display": false
  }
 },
 "nbformat": 4,
 "nbformat_minor": 5
}
